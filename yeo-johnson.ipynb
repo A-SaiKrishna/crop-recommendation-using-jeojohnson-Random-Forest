{
  "nbformat": 4,
  "nbformat_minor": 0,
  "metadata": {
    "colab": {
      "provenance": []
    },
    "kernelspec": {
      "name": "python3",
      "display_name": "Python 3"
    },
    "language_info": {
      "name": "python"
    }
  },
  "cells": [
    {
      "cell_type": "code",
      "source": [
        "df = pd.read_csv('/content/Crop_recommendation (1).csv')"
      ],
      "metadata": {
        "id": "h5b-GvjMSevy"
      },
      "execution_count": null,
      "outputs": []
    },
    {
      "cell_type": "code",
      "source": [
        "from sklearn.ensemble import RandomForestClassifier\n",
        "from sklearn.model_selection import GridSearchCV\n",
        "from sklearn.pipeline import Pipeline\n",
        "from sklearn.preprocessing import PowerTransformer\n",
        "\n",
        "# Assuming your dataset is in a pandas DataFrame named 'df'\n",
        "# Columns n, p, k, humidity, temperature, rainfall, ph are your features\n",
        "# and the label column is named 'label'\n",
        "\n",
        "# Split the dataset into training and testing sets\n",
        "X_train, X_test, y_train, y_test = train_test_split(df.drop('label', axis=1), df['label'], test_size=0.2, random_state=42)\n",
        "\n",
        "# Create a pipeline with the Yeo-Johnson transformation and the random forest model\n",
        "pipeline = Pipeline([\n",
        "    ('yeo-johnson', PowerTransformer()), # Apply Yeo-Johnson transformation\n",
        "    ('rf', RandomForestClassifier(random_state=42)) # Random forest model\n",
        "])\n",
        "\n",
        "# Define the hyperparameters to be tuned using grid search\n",
        "param_grid = {\n",
        "    'rf__n_estimators': [50, 100, 200],\n",
        "    'rf__max_depth': [None, 5, 10, 20],\n",
        "    'rf__min_samples_split': [2, 5, 10],\n",
        "    'rf__min_samples_leaf': [1, 2, 4],\n",
        "    'rf__max_features': ['sqrt', 'log2']\n",
        "}\n",
        "\n",
        "# Perform grid search with 5-fold cross-validation\n",
        "grid_search = GridSearchCV(pipeline, param_grid, cv=5, n_jobs=-1)\n",
        "\n",
        "# Fit the grid search to the training data\n",
        "grid_search.fit(X_train, y_train)\n",
        "best_model = grid_search.best_estimator_\n",
        "\n",
        "# Print the best hyperparameters and the corresponding score\n",
        "print(\"Best parameters: \", grid_search.best_params_)\n",
        "print(\"Best score: \", grid_search.best_score_)\n"
      ],
      "metadata": {
        "colab": {
          "base_uri": "https://localhost:8080/"
        },
        "id": "qUm5Gn4aSW-S",
        "outputId": "718fd8e3-70cc-4d6d-8ea4-ef5247e1f745"
      },
      "execution_count": null,
      "outputs": [
        {
          "output_type": "stream",
          "name": "stdout",
          "text": [
            "Best parameters:  {'rf__max_depth': None, 'rf__max_features': 'sqrt', 'rf__min_samples_leaf': 1, 'rf__min_samples_split': 2, 'rf__n_estimators': 200}\n",
            "Best score:  0.9954545454545455\n"
          ]
        }
      ]
    },
    {
      "cell_type": "code",
      "source": [
        "from sklearn.model_selection import cross_val_score,cross_validate\n",
        "from sklearn.metrics import precision_score, recall_score, f1_score, accuracy_score\n",
        "scoring = ['precision_macro', 'recall_macro', 'f1_macro', 'accuracy']\n",
        "# Perform 5-fold cross-validation with the best model\n",
        "scores = cross_validate(best_model, X, y, cv=5, scoring=scoring)\n",
        "\n",
        "print(\"Precision scores:\", scores['test_precision_macro'])\n",
        "print(\"Recall scores:\", scores['test_recall_macro'])\n",
        "print(\"F1 scores:\", scores['test_f1_macro'])\n",
        "print(\"Accuracy scores:\", scores['test_accuracy'])"
      ],
      "metadata": {
        "colab": {
          "base_uri": "https://localhost:8080/"
        },
        "id": "SCtgi2tdVe_T",
        "outputId": "5f699317-ccbd-4c75-f199-3fb8e8f74e49"
      },
      "execution_count": null,
      "outputs": [
        {
          "output_type": "stream",
          "name": "stdout",
          "text": [
            "Precision scores: [0.9978355  0.99350649 0.99586777 0.99586777 0.99153876]\n",
            "Recall scores: [0.99772727 0.99318182 0.99545455 0.99545455 0.99090909]\n",
            "F1 scores: [0.99772585 0.99317755 0.99544315 0.99544315 0.99089486]\n",
            "Accuracy scores: [0.99772727 0.99318182 0.99545455 0.99545455 0.99090909]\n"
          ]
        }
      ]
    },
    {
      "cell_type": "code",
      "source": [
        "import joblib\n",
        "joblib.dump(best_model, 'best_model.pkl')"
      ],
      "metadata": {
        "colab": {
          "base_uri": "https://localhost:8080/"
        },
        "id": "2ZsbtzyxE5CH",
        "outputId": "39f69d96-7995-4dc3-908d-208d72abede1"
      },
      "execution_count": null,
      "outputs": [
        {
          "output_type": "execute_result",
          "data": {
            "text/plain": [
              "['best_model.pkl']"
            ]
          },
          "metadata": {},
          "execution_count": 22
        }
      ]
    }
  ]
}